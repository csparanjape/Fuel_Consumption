{
 "cells": [
  {
   "cell_type": "markdown",
   "id": "484d5307",
   "metadata": {},
   "source": [
    "# Data preparation\n"
   ]
  },
  {
   "cell_type": "code",
   "execution_count": 1,
   "id": "bccba2e6",
   "metadata": {},
   "outputs": [],
   "source": [
    "import pandas as pd\n",
    "from sklearn.model_selection import train_test_split,GridSearchCV\n",
    "\n",
    "from sklearn.linear_model import LinearRegression\n",
    "from sklearn.neighbors import KNeighborsRegressor\n",
    "from sklearn.metrics import mean_squared_error,mean_absolute_error,explained_variance_score\n",
    "\n",
    "from sklearn.preprocessing import MinMaxScaler\n",
    "\n",
    "import matplotlib.pyplot as plt\n",
    "import seaborn as sns\n",
    "'''\n",
    "fig_params={'legend.fontsize':28,\n",
    "          'axes.labelsize': 28,\n",
    "          'axes.titlesize':32,\n",
    "          'xtick.labelsize':24,\n",
    "          'ytick.labelsize':24,             \n",
    "          'axes.facecolor':'#D9DDD1'}\n",
    "plt.rcParams.update(fig_params)\n",
    "'''\n",
    "\n",
    "%matplotlib inline"
   ]
  },
  {
   "cell_type": "code",
   "execution_count": 2,
   "id": "03ed8877",
   "metadata": {},
   "outputs": [],
   "source": [
    "df=pd.read_csv('./data/FuelConsumption_final.csv')"
   ]
  },
  {
   "cell_type": "code",
   "execution_count": 3,
   "id": "2ce97c75",
   "metadata": {},
   "outputs": [],
   "source": [
    "X=df[['MODEL_YEAR', 'ENGINE_SIZE', 'CYLINDERS', 'FUEL_CONSUMPTION_CITY',\n",
    "       'FUEL_CONSUMPTION_HWY', 'FUEL_CONSUMPTION_COMB', 'E',\n",
    "       'N', 'X', 'Z', 'E.1', 'N.1', 'X.1', 'Z.1', 'FULL-SIZE', 'MID-SIZE',\n",
    "       'MINICOMPACT', 'MINIVAN', 'PICKUP TRUCK - SMALL',\n",
    "       'PICKUP TRUCK - STANDARD', 'SPECIAL PURPOSE VEHICLE',\n",
    "       'STATION WAGON - MID-SIZE', 'STATION WAGON - SMALL', 'SUBCOMPACT',\n",
    "       'SUV', 'SUV - SMALL', 'SUV - STANDARD', 'TWO-SEATER', 'VAN - CARGO',\n",
    "       'VAN - PASSENGER', 'A4', 'A5', 'A6', 'A7', 'A8', 'A9', 'AM5', 'AM6',\n",
    "       'AM7', 'AS4', 'AS5', 'AS6', 'AS7', 'AS8', 'AS9', 'AV', 'AV6', 'AV7',\n",
    "       'AV8', 'M4', 'M5', 'M6', 'M7']]\n",
    "y=df['CO2_EMISSIONS']"
   ]
  },
  {
   "cell_type": "code",
   "execution_count": 4,
   "id": "bb64ac6a",
   "metadata": {},
   "outputs": [],
   "source": [
    "X_temp,X_test,y_temp,y_test=train_test_split(X,y,test_size=0.25,random_state=100)\n",
    "X_train,X_cv,y_train,y_cv=train_test_split(X_temp,y_temp,test_size=0.2)"
   ]
  },
  {
   "cell_type": "markdown",
   "id": "d6c4498f",
   "metadata": {},
   "source": [
    "## Normalization"
   ]
  },
  {
   "cell_type": "code",
   "execution_count": 5,
   "id": "586b7b81",
   "metadata": {},
   "outputs": [
    {
     "data": {
      "text/plain": [
       "MinMaxScaler()"
      ]
     },
     "execution_count": 5,
     "metadata": {},
     "output_type": "execute_result"
    }
   ],
   "source": [
    "scaler=MinMaxScaler()\n",
    "scaler.fit(X_train)"
   ]
  },
  {
   "cell_type": "code",
   "execution_count": 6,
   "id": "a263d378",
   "metadata": {},
   "outputs": [],
   "source": [
    "def normalize(df,normalizer):\n",
    "    df[['MODEL_YEAR', 'ENGINE_SIZE', 'CYLINDERS', 'FUEL_CONSUMPTION_CITY',\n",
    "       'FUEL_CONSUMPTION_HWY', 'FUEL_CONSUMPTION_COMB', 'E',\n",
    "       'N', 'X', 'Z', 'E.1', 'N.1', 'X.1', 'Z.1', 'FULL-SIZE', 'MID-SIZE',\n",
    "       'MINICOMPACT', 'MINIVAN', 'PICKUP TRUCK - SMALL',\n",
    "       'PICKUP TRUCK - STANDARD', 'SPECIAL PURPOSE VEHICLE',\n",
    "       'STATION WAGON - MID-SIZE', 'STATION WAGON - SMALL', 'SUBCOMPACT',\n",
    "       'SUV', 'SUV - SMALL', 'SUV - STANDARD', 'TWO-SEATER', 'VAN - CARGO',\n",
    "       'VAN - PASSENGER', 'A4', 'A5', 'A6', 'A7', 'A8', 'A9', 'AM5', 'AM6',\n",
    "       'AM7', 'AS4', 'AS5', 'AS6', 'AS7', 'AS8', 'AS9', 'AV', 'AV6', 'AV7',\n",
    "       'AV8', 'M4', 'M5', 'M6', 'M7']]=normalizer.transform(df)\n",
    "    return df\n",
    "    "
   ]
  },
  {
   "cell_type": "code",
   "execution_count": 7,
   "id": "d02a7d97",
   "metadata": {},
   "outputs": [
    {
     "name": "stderr",
     "output_type": "stream",
     "text": [
      "<ipython-input-6-eb6d83f3988f>:2: SettingWithCopyWarning: \n",
      "A value is trying to be set on a copy of a slice from a DataFrame.\n",
      "Try using .loc[row_indexer,col_indexer] = value instead\n",
      "\n",
      "See the caveats in the documentation: https://pandas.pydata.org/pandas-docs/stable/user_guide/indexing.html#returning-a-view-versus-a-copy\n",
      "  df[['MODEL_YEAR', 'ENGINE_SIZE', 'CYLINDERS', 'FUEL_CONSUMPTION_CITY',\n",
      "/home/chaitanya/anaconda3/lib/python3.8/site-packages/pandas/core/indexing.py:1738: SettingWithCopyWarning: \n",
      "A value is trying to be set on a copy of a slice from a DataFrame.\n",
      "Try using .loc[row_indexer,col_indexer] = value instead\n",
      "\n",
      "See the caveats in the documentation: https://pandas.pydata.org/pandas-docs/stable/user_guide/indexing.html#returning-a-view-versus-a-copy\n",
      "  self._setitem_single_column(loc, value[:, i].tolist(), pi)\n",
      "<ipython-input-6-eb6d83f3988f>:2: SettingWithCopyWarning: \n",
      "A value is trying to be set on a copy of a slice from a DataFrame.\n",
      "Try using .loc[row_indexer,col_indexer] = value instead\n",
      "\n",
      "See the caveats in the documentation: https://pandas.pydata.org/pandas-docs/stable/user_guide/indexing.html#returning-a-view-versus-a-copy\n",
      "  df[['MODEL_YEAR', 'ENGINE_SIZE', 'CYLINDERS', 'FUEL_CONSUMPTION_CITY',\n",
      "/home/chaitanya/anaconda3/lib/python3.8/site-packages/pandas/core/indexing.py:1738: SettingWithCopyWarning: \n",
      "A value is trying to be set on a copy of a slice from a DataFrame.\n",
      "Try using .loc[row_indexer,col_indexer] = value instead\n",
      "\n",
      "See the caveats in the documentation: https://pandas.pydata.org/pandas-docs/stable/user_guide/indexing.html#returning-a-view-versus-a-copy\n",
      "  self._setitem_single_column(loc, value[:, i].tolist(), pi)\n",
      "<ipython-input-6-eb6d83f3988f>:2: SettingWithCopyWarning: \n",
      "A value is trying to be set on a copy of a slice from a DataFrame.\n",
      "Try using .loc[row_indexer,col_indexer] = value instead\n",
      "\n",
      "See the caveats in the documentation: https://pandas.pydata.org/pandas-docs/stable/user_guide/indexing.html#returning-a-view-versus-a-copy\n",
      "  df[['MODEL_YEAR', 'ENGINE_SIZE', 'CYLINDERS', 'FUEL_CONSUMPTION_CITY',\n",
      "/home/chaitanya/anaconda3/lib/python3.8/site-packages/pandas/core/indexing.py:1738: SettingWithCopyWarning: \n",
      "A value is trying to be set on a copy of a slice from a DataFrame.\n",
      "Try using .loc[row_indexer,col_indexer] = value instead\n",
      "\n",
      "See the caveats in the documentation: https://pandas.pydata.org/pandas-docs/stable/user_guide/indexing.html#returning-a-view-versus-a-copy\n",
      "  self._setitem_single_column(loc, value[:, i].tolist(), pi)\n"
     ]
    }
   ],
   "source": [
    "X_train=normalize(X_train,scaler)\n",
    "X_cv=normalize(X_cv,scaler)\n",
    "X_test=normalize(X_test,scaler)"
   ]
  },
  {
   "cell_type": "code",
   "execution_count": 8,
   "id": "1bfba897",
   "metadata": {
    "scrolled": true
   },
   "outputs": [
    {
     "data": {
      "text/html": [
       "<div>\n",
       "<style scoped>\n",
       "    .dataframe tbody tr th:only-of-type {\n",
       "        vertical-align: middle;\n",
       "    }\n",
       "\n",
       "    .dataframe tbody tr th {\n",
       "        vertical-align: top;\n",
       "    }\n",
       "\n",
       "    .dataframe thead th {\n",
       "        text-align: right;\n",
       "    }\n",
       "</style>\n",
       "<table border=\"1\" class=\"dataframe\">\n",
       "  <thead>\n",
       "    <tr style=\"text-align: right;\">\n",
       "      <th></th>\n",
       "      <th>MODEL_YEAR</th>\n",
       "      <th>ENGINE_SIZE</th>\n",
       "      <th>CYLINDERS</th>\n",
       "      <th>FUEL_CONSUMPTION_CITY</th>\n",
       "      <th>FUEL_CONSUMPTION_HWY</th>\n",
       "      <th>FUEL_CONSUMPTION_COMB</th>\n",
       "      <th>E</th>\n",
       "      <th>N</th>\n",
       "      <th>X</th>\n",
       "      <th>Z</th>\n",
       "      <th>...</th>\n",
       "      <th>AS8</th>\n",
       "      <th>AS9</th>\n",
       "      <th>AV</th>\n",
       "      <th>AV6</th>\n",
       "      <th>AV7</th>\n",
       "      <th>AV8</th>\n",
       "      <th>M4</th>\n",
       "      <th>M5</th>\n",
       "      <th>M6</th>\n",
       "      <th>M7</th>\n",
       "    </tr>\n",
       "  </thead>\n",
       "  <tbody>\n",
       "    <tr>\n",
       "      <th>6930</th>\n",
       "      <td>0.571429</td>\n",
       "      <td>0.552632</td>\n",
       "      <td>0.571429</td>\n",
       "      <td>0.610656</td>\n",
       "      <td>0.493671</td>\n",
       "      <td>0.583756</td>\n",
       "      <td>0.0</td>\n",
       "      <td>0.0</td>\n",
       "      <td>0.0</td>\n",
       "      <td>1.0</td>\n",
       "      <td>...</td>\n",
       "      <td>0.0</td>\n",
       "      <td>0.0</td>\n",
       "      <td>0.0</td>\n",
       "      <td>0.0</td>\n",
       "      <td>0.0</td>\n",
       "      <td>0.0</td>\n",
       "      <td>0.0</td>\n",
       "      <td>0.0</td>\n",
       "      <td>0.0</td>\n",
       "      <td>0.0</td>\n",
       "    </tr>\n",
       "    <tr>\n",
       "      <th>7580</th>\n",
       "      <td>0.571429</td>\n",
       "      <td>0.157895</td>\n",
       "      <td>0.142857</td>\n",
       "      <td>0.250000</td>\n",
       "      <td>0.234177</td>\n",
       "      <td>0.243655</td>\n",
       "      <td>0.0</td>\n",
       "      <td>0.0</td>\n",
       "      <td>1.0</td>\n",
       "      <td>0.0</td>\n",
       "      <td>...</td>\n",
       "      <td>0.0</td>\n",
       "      <td>0.0</td>\n",
       "      <td>1.0</td>\n",
       "      <td>0.0</td>\n",
       "      <td>0.0</td>\n",
       "      <td>0.0</td>\n",
       "      <td>0.0</td>\n",
       "      <td>0.0</td>\n",
       "      <td>0.0</td>\n",
       "      <td>0.0</td>\n",
       "    </tr>\n",
       "    <tr>\n",
       "      <th>3906</th>\n",
       "      <td>0.357143</td>\n",
       "      <td>0.355263</td>\n",
       "      <td>0.285714</td>\n",
       "      <td>0.422131</td>\n",
       "      <td>0.398734</td>\n",
       "      <td>0.421320</td>\n",
       "      <td>0.0</td>\n",
       "      <td>0.0</td>\n",
       "      <td>1.0</td>\n",
       "      <td>0.0</td>\n",
       "      <td>...</td>\n",
       "      <td>0.0</td>\n",
       "      <td>0.0</td>\n",
       "      <td>0.0</td>\n",
       "      <td>0.0</td>\n",
       "      <td>0.0</td>\n",
       "      <td>0.0</td>\n",
       "      <td>0.0</td>\n",
       "      <td>0.0</td>\n",
       "      <td>0.0</td>\n",
       "      <td>0.0</td>\n",
       "    </tr>\n",
       "    <tr>\n",
       "      <th>6586</th>\n",
       "      <td>0.500000</td>\n",
       "      <td>0.105263</td>\n",
       "      <td>0.142857</td>\n",
       "      <td>0.221311</td>\n",
       "      <td>0.170886</td>\n",
       "      <td>0.197970</td>\n",
       "      <td>0.0</td>\n",
       "      <td>0.0</td>\n",
       "      <td>1.0</td>\n",
       "      <td>0.0</td>\n",
       "      <td>...</td>\n",
       "      <td>0.0</td>\n",
       "      <td>0.0</td>\n",
       "      <td>0.0</td>\n",
       "      <td>0.0</td>\n",
       "      <td>0.0</td>\n",
       "      <td>0.0</td>\n",
       "      <td>0.0</td>\n",
       "      <td>1.0</td>\n",
       "      <td>0.0</td>\n",
       "      <td>0.0</td>\n",
       "    </tr>\n",
       "    <tr>\n",
       "      <th>7047</th>\n",
       "      <td>0.571429</td>\n",
       "      <td>0.684211</td>\n",
       "      <td>0.428571</td>\n",
       "      <td>0.532787</td>\n",
       "      <td>0.518987</td>\n",
       "      <td>0.538071</td>\n",
       "      <td>0.0</td>\n",
       "      <td>0.0</td>\n",
       "      <td>1.0</td>\n",
       "      <td>0.0</td>\n",
       "      <td>...</td>\n",
       "      <td>0.0</td>\n",
       "      <td>0.0</td>\n",
       "      <td>0.0</td>\n",
       "      <td>0.0</td>\n",
       "      <td>0.0</td>\n",
       "      <td>0.0</td>\n",
       "      <td>0.0</td>\n",
       "      <td>0.0</td>\n",
       "      <td>0.0</td>\n",
       "      <td>0.0</td>\n",
       "    </tr>\n",
       "    <tr>\n",
       "      <th>...</th>\n",
       "      <td>...</td>\n",
       "      <td>...</td>\n",
       "      <td>...</td>\n",
       "      <td>...</td>\n",
       "      <td>...</td>\n",
       "      <td>...</td>\n",
       "      <td>...</td>\n",
       "      <td>...</td>\n",
       "      <td>...</td>\n",
       "      <td>...</td>\n",
       "      <td>...</td>\n",
       "      <td>...</td>\n",
       "      <td>...</td>\n",
       "      <td>...</td>\n",
       "      <td>...</td>\n",
       "      <td>...</td>\n",
       "      <td>...</td>\n",
       "      <td>...</td>\n",
       "      <td>...</td>\n",
       "      <td>...</td>\n",
       "      <td>...</td>\n",
       "    </tr>\n",
       "    <tr>\n",
       "      <th>5965</th>\n",
       "      <td>0.500000</td>\n",
       "      <td>0.407895</td>\n",
       "      <td>0.285714</td>\n",
       "      <td>0.344262</td>\n",
       "      <td>0.272152</td>\n",
       "      <td>0.319797</td>\n",
       "      <td>0.0</td>\n",
       "      <td>0.0</td>\n",
       "      <td>1.0</td>\n",
       "      <td>0.0</td>\n",
       "      <td>...</td>\n",
       "      <td>0.0</td>\n",
       "      <td>0.0</td>\n",
       "      <td>0.0</td>\n",
       "      <td>0.0</td>\n",
       "      <td>0.0</td>\n",
       "      <td>0.0</td>\n",
       "      <td>0.0</td>\n",
       "      <td>0.0</td>\n",
       "      <td>0.0</td>\n",
       "      <td>0.0</td>\n",
       "    </tr>\n",
       "    <tr>\n",
       "      <th>2452</th>\n",
       "      <td>0.214286</td>\n",
       "      <td>0.210526</td>\n",
       "      <td>0.142857</td>\n",
       "      <td>0.295082</td>\n",
       "      <td>0.316456</td>\n",
       "      <td>0.304569</td>\n",
       "      <td>0.0</td>\n",
       "      <td>0.0</td>\n",
       "      <td>1.0</td>\n",
       "      <td>0.0</td>\n",
       "      <td>...</td>\n",
       "      <td>0.0</td>\n",
       "      <td>0.0</td>\n",
       "      <td>0.0</td>\n",
       "      <td>0.0</td>\n",
       "      <td>0.0</td>\n",
       "      <td>0.0</td>\n",
       "      <td>0.0</td>\n",
       "      <td>0.0</td>\n",
       "      <td>0.0</td>\n",
       "      <td>0.0</td>\n",
       "    </tr>\n",
       "    <tr>\n",
       "      <th>14192</th>\n",
       "      <td>1.000000</td>\n",
       "      <td>0.250000</td>\n",
       "      <td>0.142857</td>\n",
       "      <td>0.299180</td>\n",
       "      <td>0.291139</td>\n",
       "      <td>0.294416</td>\n",
       "      <td>0.0</td>\n",
       "      <td>0.0</td>\n",
       "      <td>1.0</td>\n",
       "      <td>0.0</td>\n",
       "      <td>...</td>\n",
       "      <td>0.0</td>\n",
       "      <td>0.0</td>\n",
       "      <td>0.0</td>\n",
       "      <td>0.0</td>\n",
       "      <td>0.0</td>\n",
       "      <td>0.0</td>\n",
       "      <td>0.0</td>\n",
       "      <td>0.0</td>\n",
       "      <td>0.0</td>\n",
       "      <td>0.0</td>\n",
       "    </tr>\n",
       "    <tr>\n",
       "      <th>2169</th>\n",
       "      <td>0.214286</td>\n",
       "      <td>0.460526</td>\n",
       "      <td>0.285714</td>\n",
       "      <td>0.520492</td>\n",
       "      <td>0.493671</td>\n",
       "      <td>0.522843</td>\n",
       "      <td>0.0</td>\n",
       "      <td>0.0</td>\n",
       "      <td>1.0</td>\n",
       "      <td>0.0</td>\n",
       "      <td>...</td>\n",
       "      <td>0.0</td>\n",
       "      <td>0.0</td>\n",
       "      <td>0.0</td>\n",
       "      <td>0.0</td>\n",
       "      <td>0.0</td>\n",
       "      <td>0.0</td>\n",
       "      <td>0.0</td>\n",
       "      <td>0.0</td>\n",
       "      <td>0.0</td>\n",
       "      <td>0.0</td>\n",
       "    </tr>\n",
       "    <tr>\n",
       "      <th>3094</th>\n",
       "      <td>0.285714</td>\n",
       "      <td>0.592105</td>\n",
       "      <td>0.428571</td>\n",
       "      <td>0.520492</td>\n",
       "      <td>0.556962</td>\n",
       "      <td>0.543147</td>\n",
       "      <td>0.0</td>\n",
       "      <td>0.0</td>\n",
       "      <td>1.0</td>\n",
       "      <td>0.0</td>\n",
       "      <td>...</td>\n",
       "      <td>0.0</td>\n",
       "      <td>0.0</td>\n",
       "      <td>0.0</td>\n",
       "      <td>0.0</td>\n",
       "      <td>0.0</td>\n",
       "      <td>0.0</td>\n",
       "      <td>0.0</td>\n",
       "      <td>0.0</td>\n",
       "      <td>0.0</td>\n",
       "      <td>0.0</td>\n",
       "    </tr>\n",
       "  </tbody>\n",
       "</table>\n",
       "<p>8551 rows × 53 columns</p>\n",
       "</div>"
      ],
      "text/plain": [
       "       MODEL_YEAR  ENGINE_SIZE  CYLINDERS  FUEL_CONSUMPTION_CITY  \\\n",
       "6930     0.571429     0.552632   0.571429               0.610656   \n",
       "7580     0.571429     0.157895   0.142857               0.250000   \n",
       "3906     0.357143     0.355263   0.285714               0.422131   \n",
       "6586     0.500000     0.105263   0.142857               0.221311   \n",
       "7047     0.571429     0.684211   0.428571               0.532787   \n",
       "...           ...          ...        ...                    ...   \n",
       "5965     0.500000     0.407895   0.285714               0.344262   \n",
       "2452     0.214286     0.210526   0.142857               0.295082   \n",
       "14192    1.000000     0.250000   0.142857               0.299180   \n",
       "2169     0.214286     0.460526   0.285714               0.520492   \n",
       "3094     0.285714     0.592105   0.428571               0.520492   \n",
       "\n",
       "       FUEL_CONSUMPTION_HWY  FUEL_CONSUMPTION_COMB    E    N    X    Z  ...  \\\n",
       "6930               0.493671               0.583756  0.0  0.0  0.0  1.0  ...   \n",
       "7580               0.234177               0.243655  0.0  0.0  1.0  0.0  ...   \n",
       "3906               0.398734               0.421320  0.0  0.0  1.0  0.0  ...   \n",
       "6586               0.170886               0.197970  0.0  0.0  1.0  0.0  ...   \n",
       "7047               0.518987               0.538071  0.0  0.0  1.0  0.0  ...   \n",
       "...                     ...                    ...  ...  ...  ...  ...  ...   \n",
       "5965               0.272152               0.319797  0.0  0.0  1.0  0.0  ...   \n",
       "2452               0.316456               0.304569  0.0  0.0  1.0  0.0  ...   \n",
       "14192              0.291139               0.294416  0.0  0.0  1.0  0.0  ...   \n",
       "2169               0.493671               0.522843  0.0  0.0  1.0  0.0  ...   \n",
       "3094               0.556962               0.543147  0.0  0.0  1.0  0.0  ...   \n",
       "\n",
       "       AS8  AS9   AV  AV6  AV7  AV8   M4   M5   M6   M7  \n",
       "6930   0.0  0.0  0.0  0.0  0.0  0.0  0.0  0.0  0.0  0.0  \n",
       "7580   0.0  0.0  1.0  0.0  0.0  0.0  0.0  0.0  0.0  0.0  \n",
       "3906   0.0  0.0  0.0  0.0  0.0  0.0  0.0  0.0  0.0  0.0  \n",
       "6586   0.0  0.0  0.0  0.0  0.0  0.0  0.0  1.0  0.0  0.0  \n",
       "7047   0.0  0.0  0.0  0.0  0.0  0.0  0.0  0.0  0.0  0.0  \n",
       "...    ...  ...  ...  ...  ...  ...  ...  ...  ...  ...  \n",
       "5965   0.0  0.0  0.0  0.0  0.0  0.0  0.0  0.0  0.0  0.0  \n",
       "2452   0.0  0.0  0.0  0.0  0.0  0.0  0.0  0.0  0.0  0.0  \n",
       "14192  0.0  0.0  0.0  0.0  0.0  0.0  0.0  0.0  0.0  0.0  \n",
       "2169   0.0  0.0  0.0  0.0  0.0  0.0  0.0  0.0  0.0  0.0  \n",
       "3094   0.0  0.0  0.0  0.0  0.0  0.0  0.0  0.0  0.0  0.0  \n",
       "\n",
       "[8551 rows x 53 columns]"
      ]
     },
     "execution_count": 8,
     "metadata": {},
     "output_type": "execute_result"
    }
   ],
   "source": [
    "X_train"
   ]
  },
  {
   "cell_type": "markdown",
   "id": "11c5f9f2",
   "metadata": {},
   "source": [
    "## Model building"
   ]
  },
  {
   "cell_type": "code",
   "execution_count": 9,
   "id": "5901b29b",
   "metadata": {},
   "outputs": [],
   "source": [
    "# def bestModel(model, X_train, X_cv, y_train, y_cv, grid):\n",
    "#     model_cv = GridSearchCV(model, grid, cv=4)\n",
    "#     model_cv.fit(X_train, y_train)\n",
    "#     print(\"tuned hpyerparameters :(best parameters) \", model_cv.best_params_)\n",
    "#     print(\"accuracy :\", model_cv.best_score_)\n",
    "#     mod_best= model_cv.best_estimator_\n",
    "#     return mod_best\n",
    "\n",
    "\n",
    "# def testModel(model, X_train, X_cv, y_train, y_cv):\n",
    "#     model.fit(X_train,y_train)\n",
    "#     y_pred_tr = model.predict(X_train)\n",
    "#     y_pred_cv = model.predict(X_cv)\n",
    "#     precision_tr, recall_tr, fscore_tr, support_tr = precision_recall_fscore_support(\n",
    "#         y_train, y_pred_tr, average='macro')\n",
    "#     precision_cv, recall_cv, fscore_cv, support_cv = precision_recall_fscore_support(\n",
    "#         y_cv, y_pred_cv, average='macro')\n",
    "#     report= np.array([precision_tr, recall_tr, fscore_tr, precision_cv, recall_cv, fscore_cv])\n",
    "#     return report\n",
    "\n"
   ]
  },
  {
   "cell_type": "markdown",
   "id": "dcf7f8e9",
   "metadata": {},
   "source": [
    "## Linear Regression"
   ]
  },
  {
   "cell_type": "code",
   "execution_count": 10,
   "id": "e36d7e93",
   "metadata": {},
   "outputs": [],
   "source": [
    "linReg=LinearRegression()\n",
    "linReg.fit(X_train,y_train)\n",
    "\n",
    "y_train_pred=linReg.predict(X_train)\n",
    "y_cv_pred=linReg.predict(X_cv)"
   ]
  },
  {
   "cell_type": "code",
   "execution_count": 11,
   "id": "5c776cee",
   "metadata": {
    "scrolled": false
   },
   "outputs": [
    {
     "name": "stdout",
     "output_type": "stream",
     "text": [
      "mean sq error training data :  21.32034958236904\n",
      "mean sq error cross-val data :  23.90715707020509\n",
      "\n",
      "mean abs error training data :  2.128777293882467\n",
      "mean abs error cross-val data :  2.29065605932726\n"
     ]
    }
   ],
   "source": [
    "print('mean sq error training data : ',mean_squared_error(y_train,y_train_pred))\n",
    "print('mean sq error cross-val data : ',mean_squared_error(y_cv,y_cv_pred))\n",
    "print()\n",
    "print('mean abs error training data : ',mean_absolute_error(y_train,y_train_pred))\n",
    "print('mean abs error cross-val data : ',mean_absolute_error(y_cv,y_cv_pred))"
   ]
  },
  {
   "cell_type": "code",
   "execution_count": 12,
   "id": "63ea6394",
   "metadata": {
    "scrolled": true
   },
   "outputs": [
    {
     "data": {
      "text/plain": [
       "<AxesSubplot:xlabel='CO2_EMISSIONS', ylabel='Count'>"
      ]
     },
     "execution_count": 12,
     "metadata": {},
     "output_type": "execute_result"
    },
    {
     "data": {
      "image/png": "[encoded data removed]",
      "text/plain": [
       "<Figure size 432x288 with 1 Axes>"
      ]
     },
     "metadata": {
      "needs_background": "light"
     },
     "output_type": "display_data"
    }
   ],
   "source": [
    "sns.histplot(data=y_train)"
   ]
  },
  {
   "cell_type": "code",
   "execution_count": 13,
   "id": "1a7bcdc6",
   "metadata": {},
   "outputs": [
    {
     "data": {
      "text/plain": [
       "Text(0, 0.5, 'Predicted')"
      ]
     },
     "execution_count": 13,
     "metadata": {},
     "output_type": "execute_result"
    },
    {
     "data": {
      "image/png": "[encoded data removed]",
      "text/plain": [
       "<Figure size 936x360 with 2 Axes>"
      ]
     },
     "metadata": {
      "needs_background": "light"
     },
     "output_type": "display_data"
    }
   ],
   "source": [
    "fig,ax=plt.subplots(nrows=1,ncols=2,figsize=(13,5))\n",
    "ax[0].scatter(y_cv,y_cv_pred)\n",
    "ax[0].plot(y_cv,y_cv,'r')\n",
    "ax[0].set_xlabel('y_cv')\n",
    "ax[0].set_ylabel('Predicted')\n",
    "ax[1].scatter(y_train,y_train_pred)\n",
    "ax[1].plot(y_train,y_train,'r')\n",
    "ax[1].set_xlabel('y_train');ax[1].set_ylabel('Predicted')"
   ]
  },
  {
   "cell_type": "markdown",
   "id": "7e719033",
   "metadata": {},
   "source": [
    "## ANN"
   ]
  },
  {
   "cell_type": "code",
   "execution_count": 14,
   "id": "a7fbdb3e",
   "metadata": {},
   "outputs": [],
   "source": [
    "from tensorflow.keras.models import Sequential\n",
    "from tensorflow.keras.layers import Dense\n",
    "from tensorflow.keras.callbacks import EarlyStopping\n",
    "from tensorflow.keras.layers import Dropout"
   ]
  },
  {
   "cell_type": "code",
   "execution_count": 15,
   "id": "cab11252",
   "metadata": {},
   "outputs": [
    {
     "name": "stdout",
     "output_type": "stream",
     "text": [
      "(8551, 53) (8551,)\n"
     ]
    }
   ],
   "source": [
    "print(X_train.shape,y_train.shape)"
   ]
  },
  {
   "cell_type": "code",
   "execution_count": 16,
   "id": "0f46fe59",
   "metadata": {},
   "outputs": [],
   "source": [
    "model=Sequential()\n",
    "model.add(Dense(units=53,activation='relu'))\n",
    "model.add(Dropout(0.4))\n",
    "model.add(Dense(units=53,activation='relu'))\n",
    "model.add(Dropout(0.4))\n",
    "model.add(Dense(units=1))\n",
    "model.compile(optimizer='adam',loss='mse')"
   ]
  },
  {
   "cell_type": "code",
   "execution_count": 17,
   "id": "0a71163c",
   "metadata": {},
   "outputs": [],
   "source": [
    "early_stop = EarlyStopping(monitor='val_loss', mode='min', verbose=1, patience=25)"
   ]
  },
  {
   "cell_type": "code",
   "execution_count": 18,
   "id": "66bfaaac",
   "metadata": {},
   "outputs": [
    {
     "name": "stdout",
     "output_type": "stream",
     "text": [
      "Epoch 1/600\n",
      "268/268 [==============================] - 1s 3ms/step - loss: 51021.1276 - val_loss: 1319.4023\n",
      "Epoch 2/600\n",
      "268/268 [==============================] - 1s 2ms/step - loss: 3662.8975 - val_loss: 792.6912\n",
      "Epoch 3/600\n",
      "268/268 [==============================] - 1s 3ms/step - loss: 3119.2436 - val_loss: 593.0241\n",
      "Epoch 4/600\n",
      "268/268 [==============================] - 1s 2ms/step - loss: 3014.8946 - val_loss: 462.3726\n",
      "Epoch 5/600\n",
      "268/268 [==============================] - 1s 2ms/step - loss: 2755.4029 - val_loss: 416.3936\n",
      "Epoch 6/600\n",
      "268/268 [==============================] - 1s 2ms/step - loss: 2498.0736 - val_loss: 337.1323\n",
      "Epoch 7/600\n",
      "268/268 [==============================] - 1s 2ms/step - loss: 2502.4241 - val_loss: 304.6623\n",
      "Epoch 8/600\n",
      "268/268 [==============================] - 1s 2ms/step - loss: 2443.7117 - val_loss: 363.8788\n",
      "Epoch 9/600\n",
      "268/268 [==============================] - 1s 3ms/step - loss: 2466.7505 - val_loss: 271.7109\n",
      "Epoch 10/600\n",
      "268/268 [==============================] - 1s 3ms/step - loss: 2384.6655 - val_loss: 331.8748\n",
      "Epoch 11/600\n",
      "268/268 [==============================] - 1s 2ms/step - loss: 2433.8345 - val_loss: 223.0357\n",
      "Epoch 12/600\n",
      "268/268 [==============================] - 1s 3ms/step - loss: 2407.7726 - val_loss: 250.8428\n",
      "Epoch 13/600\n",
      "268/268 [==============================] - 1s 2ms/step - loss: 2455.0571 - val_loss: 224.7993\n",
      "Epoch 14/600\n",
      "268/268 [==============================] - 1s 2ms/step - loss: 2458.7175 - val_loss: 218.5448\n",
      "Epoch 15/600\n",
      "268/268 [==============================] - 1s 2ms/step - loss: 2398.3409 - val_loss: 247.1068\n",
      "Epoch 16/600\n",
      "268/268 [==============================] - 1s 3ms/step - loss: 2399.7081 - val_loss: 153.5188\n",
      "Epoch 17/600\n",
      "268/268 [==============================] - 1s 2ms/step - loss: 2220.6894 - val_loss: 192.3582\n",
      "Epoch 18/600\n",
      "268/268 [==============================] - 1s 2ms/step - loss: 2312.0302 - val_loss: 163.7055\n",
      "Epoch 19/600\n",
      "268/268 [==============================] - 1s 2ms/step - loss: 2222.6139 - val_loss: 206.4502\n",
      "Epoch 20/600\n",
      "268/268 [==============================] - 1s 2ms/step - loss: 2288.7728 - val_loss: 116.4378\n",
      "Epoch 21/600\n",
      "268/268 [==============================] - 1s 2ms/step - loss: 2264.2031 - val_loss: 190.4449\n",
      "Epoch 22/600\n",
      "268/268 [==============================] - 1s 3ms/step - loss: 2220.7717 - val_loss: 109.9124\n",
      "Epoch 23/600\n",
      "268/268 [==============================] - 1s 3ms/step - loss: 2427.3818 - val_loss: 123.3050\n",
      "Epoch 24/600\n",
      "268/268 [==============================] - 1s 3ms/step - loss: 2223.8339 - val_loss: 148.1274\n",
      "Epoch 25/600\n",
      "268/268 [==============================] - 1s 3ms/step - loss: 2264.2035 - val_loss: 172.3797\n",
      "Epoch 26/600\n",
      "268/268 [==============================] - 1s 2ms/step - loss: 2110.2847 - val_loss: 190.4386\n",
      "Epoch 27/600\n",
      "268/268 [==============================] - 1s 2ms/step - loss: 2144.1236 - val_loss: 155.0594\n",
      "Epoch 28/600\n",
      "268/268 [==============================] - 1s 2ms/step - loss: 2146.6311 - val_loss: 111.4037\n",
      "Epoch 29/600\n",
      "268/268 [==============================] - 1s 2ms/step - loss: 2104.7203 - val_loss: 146.8947\n",
      "Epoch 30/600\n",
      "268/268 [==============================] - 1s 2ms/step - loss: 2171.7927 - val_loss: 105.5738\n",
      "Epoch 31/600\n",
      "268/268 [==============================] - 1s 2ms/step - loss: 2104.2862 - val_loss: 128.8951\n",
      "Epoch 32/600\n",
      "268/268 [==============================] - 1s 2ms/step - loss: 2067.6696 - val_loss: 62.2187\n",
      "Epoch 33/600\n",
      "268/268 [==============================] - 0s 2ms/step - loss: 2129.6404 - val_loss: 221.0332\n",
      "Epoch 34/600\n",
      "268/268 [==============================] - 1s 4ms/step - loss: 2115.7747 - val_loss: 192.4637\n",
      "Epoch 35/600\n",
      "268/268 [==============================] - 1s 3ms/step - loss: 2073.8071 - val_loss: 60.3855\n",
      "Epoch 36/600\n",
      "268/268 [==============================] - 1s 3ms/step - loss: 2065.2233 - val_loss: 65.2705\n",
      "Epoch 37/600\n",
      "268/268 [==============================] - 1s 3ms/step - loss: 2051.7986 - val_loss: 118.7082\n",
      "Epoch 38/600\n",
      "268/268 [==============================] - 1s 2ms/step - loss: 2067.7361 - val_loss: 118.3856\n",
      "Epoch 39/600\n",
      "268/268 [==============================] - 1s 2ms/step - loss: 2074.9286 - val_loss: 123.1424\n",
      "Epoch 40/600\n",
      "268/268 [==============================] - 1s 3ms/step - loss: 1921.2475 - val_loss: 161.4759\n",
      "Epoch 41/600\n",
      "268/268 [==============================] - 1s 2ms/step - loss: 1991.1993 - val_loss: 95.4121\n",
      "Epoch 42/600\n",
      "268/268 [==============================] - 1s 2ms/step - loss: 2020.2160 - val_loss: 82.5376\n",
      "Epoch 43/600\n",
      "268/268 [==============================] - 1s 2ms/step - loss: 1929.7232 - val_loss: 177.7383\n",
      "Epoch 44/600\n",
      "268/268 [==============================] - 1s 2ms/step - loss: 1868.5878 - val_loss: 54.4918\n",
      "Epoch 45/600\n",
      "268/268 [==============================] - 1s 3ms/step - loss: 1905.4832 - val_loss: 82.4970\n",
      "Epoch 46/600\n",
      "268/268 [==============================] - 1s 2ms/step - loss: 1930.6620 - val_loss: 120.0608\n",
      "Epoch 47/600\n",
      "268/268 [==============================] - 1s 2ms/step - loss: 1863.5028 - val_loss: 118.9991\n",
      "Epoch 48/600\n",
      "268/268 [==============================] - 1s 2ms/step - loss: 1917.2381 - val_loss: 103.8751\n",
      "Epoch 49/600\n",
      "268/268 [==============================] - 1s 2ms/step - loss: 1918.1135 - val_loss: 56.0283\n",
      "Epoch 50/600\n",
      "268/268 [==============================] - 1s 2ms/step - loss: 1857.9990 - val_loss: 103.5368\n",
      "Epoch 51/600\n",
      "268/268 [==============================] - 1s 2ms/step - loss: 1824.6563 - val_loss: 89.7872\n",
      "Epoch 52/600\n",
      "268/268 [==============================] - 1s 2ms/step - loss: 1827.0520 - val_loss: 155.5324\n",
      "Epoch 53/600\n",
      "268/268 [==============================] - 0s 2ms/step - loss: 1860.5001 - val_loss: 100.7250\n",
      "Epoch 54/600\n",
      "268/268 [==============================] - 1s 2ms/step - loss: 1902.9715 - val_loss: 55.5463\n",
      "Epoch 55/600\n",
      "268/268 [==============================] - 1s 2ms/step - loss: 1793.9775 - val_loss: 127.5801\n",
      "Epoch 56/600\n",
      "268/268 [==============================] - 1s 2ms/step - loss: 1786.2158 - val_loss: 47.4445\n",
      "Epoch 57/600\n",
      "268/268 [==============================] - 1s 2ms/step - loss: 1749.3861 - val_loss: 61.0238\n",
      "Epoch 58/600\n",
      "268/268 [==============================] - 1s 2ms/step - loss: 1705.2088 - val_loss: 103.0938\n",
      "Epoch 59/600\n",
      "268/268 [==============================] - 1s 4ms/step - loss: 1713.1552 - val_loss: 92.9854\n",
      "Epoch 60/600\n",
      "268/268 [==============================] - 1s 3ms/step - loss: 1741.8974 - val_loss: 64.4633\n",
      "Epoch 61/600\n",
      "268/268 [==============================] - 1s 2ms/step - loss: 1705.8715 - val_loss: 176.7249\n",
      "Epoch 62/600\n",
      "268/268 [==============================] - 1s 2ms/step - loss: 1722.0337 - val_loss: 43.5206\n",
      "Epoch 63/600\n",
      "268/268 [==============================] - 1s 2ms/step - loss: 1696.3868 - val_loss: 95.8769\n",
      "Epoch 64/600\n",
      "268/268 [==============================] - 1s 4ms/step - loss: 1619.4679 - val_loss: 20.9366\n",
      "Epoch 65/600\n",
      "268/268 [==============================] - 1s 3ms/step - loss: 1654.1245 - val_loss: 36.5923\n",
      "Epoch 66/600\n",
      "268/268 [==============================] - 1s 4ms/step - loss: 1696.2667 - val_loss: 45.8396\n",
      "Epoch 67/600\n",
      "268/268 [==============================] - 1s 4ms/step - loss: 1685.5160 - val_loss: 74.9740\n",
      "Epoch 68/600\n",
      "268/268 [==============================] - 1s 3ms/step - loss: 1622.3413 - val_loss: 61.7317\n",
      "Epoch 69/600\n",
      "268/268 [==============================] - 1s 2ms/step - loss: 1621.8822 - val_loss: 63.2236\n",
      "Epoch 70/600\n",
      "268/268 [==============================] - 1s 2ms/step - loss: 1546.7395 - val_loss: 121.1089\n",
      "Epoch 71/600\n",
      "268/268 [==============================] - 1s 2ms/step - loss: 1517.8876 - val_loss: 109.7765\n",
      "Epoch 72/600\n",
      "268/268 [==============================] - 0s 2ms/step - loss: 1517.9845 - val_loss: 117.1866\n",
      "Epoch 73/600\n",
      "268/268 [==============================] - 1s 2ms/step - loss: 1573.0355 - val_loss: 126.9059\n",
      "Epoch 74/600\n",
      "268/268 [==============================] - 1s 2ms/step - loss: 1567.5820 - val_loss: 78.8463\n",
      "Epoch 75/600\n",
      "268/268 [==============================] - 1s 2ms/step - loss: 1510.7858 - val_loss: 80.8225\n",
      "Epoch 76/600\n",
      "268/268 [==============================] - 1s 2ms/step - loss: 1520.1728 - val_loss: 51.0143\n",
      "Epoch 77/600\n",
      "268/268 [==============================] - 1s 2ms/step - loss: 1555.3042 - val_loss: 72.4184\n"
     ]
    },
    {
     "name": "stdout",
     "output_type": "stream",
     "text": [
      "Epoch 78/600\n",
      "268/268 [==============================] - 1s 2ms/step - loss: 1563.6669 - val_loss: 115.3812\n",
      "Epoch 79/600\n",
      "268/268 [==============================] - 1s 2ms/step - loss: 1485.0751 - val_loss: 26.5349\n",
      "Epoch 80/600\n",
      "268/268 [==============================] - 1s 2ms/step - loss: 1512.7403 - val_loss: 53.8156\n",
      "Epoch 81/600\n",
      "268/268 [==============================] - 1s 2ms/step - loss: 1449.2375 - val_loss: 70.1216\n",
      "Epoch 82/600\n",
      "268/268 [==============================] - 1s 2ms/step - loss: 1496.8615 - val_loss: 32.1647\n",
      "Epoch 83/600\n",
      "268/268 [==============================] - 1s 2ms/step - loss: 1422.5557 - val_loss: 134.3432\n",
      "Epoch 84/600\n",
      "268/268 [==============================] - 1s 2ms/step - loss: 1384.0199 - val_loss: 94.4806\n",
      "Epoch 85/600\n",
      "268/268 [==============================] - 1s 2ms/step - loss: 1423.8208 - val_loss: 87.8541\n",
      "Epoch 86/600\n",
      "268/268 [==============================] - 1s 2ms/step - loss: 1413.5200 - val_loss: 99.9855\n",
      "Epoch 87/600\n",
      "268/268 [==============================] - 1s 2ms/step - loss: 1446.2775 - val_loss: 140.6915\n",
      "Epoch 88/600\n",
      "268/268 [==============================] - 1s 2ms/step - loss: 1524.1592 - val_loss: 133.1420\n",
      "Epoch 89/600\n",
      "268/268 [==============================] - 1s 3ms/step - loss: 1461.6261 - val_loss: 62.3101\n",
      "Epoch 00089: early stopping\n"
     ]
    },
    {
     "data": {
      "text/plain": [
       "<tensorflow.python.keras.callbacks.History at 0x7f40b2d59eb0>"
      ]
     },
     "execution_count": 18,
     "metadata": {},
     "output_type": "execute_result"
    }
   ],
   "source": [
    "model.fit(x=X_train.values, \n",
    "          y=y_train.values, \n",
    "          epochs=600,\n",
    "          validation_data=(X_cv.values, y_cv.values), verbose=1,\n",
    "          callbacks=[early_stop])"
   ]
  },
  {
   "cell_type": "code",
   "execution_count": 19,
   "id": "fbdd28b8",
   "metadata": {},
   "outputs": [
    {
     "data": {
      "text/plain": [
       "<AxesSubplot:>"
      ]
     },
     "execution_count": 19,
     "metadata": {},
     "output_type": "execute_result"
    },
    {
     "data": {
      "image/png": "[encoded data removed]",
      "text/plain": [
       "<Figure size 432x288 with 1 Axes>"
      ]
     },
     "metadata": {
      "needs_background": "light"
     },
     "output_type": "display_data"
    }
   ],
   "source": [
    "losses=pd.DataFrame(model.history.history)\n",
    "losses.plot()"
   ]
  },
  {
   "cell_type": "code",
   "execution_count": 20,
   "id": "f92c789d",
   "metadata": {},
   "outputs": [],
   "source": [
    "y_train_pred_nn=model.predict(X_train)\n",
    "y_cv_pred_nn=model.predict(X_cv)"
   ]
  },
  {
   "cell_type": "code",
   "execution_count": 21,
   "id": "afd8dfee",
   "metadata": {},
   "outputs": [
    {
     "name": "stdout",
     "output_type": "stream",
     "text": [
      "mean sq error training data :  64.59578706765234\n",
      "mean sq error cross-val data :  62.31008503162537\n",
      "\n",
      "mean abs error training data :  6.451089048201599\n",
      "mean abs error cross-val data :  6.435650831745315\n"
     ]
    }
   ],
   "source": [
    "print('mean sq error training data : ',mean_squared_error(y_train,y_train_pred_nn))\n",
    "print('mean sq error cross-val data : ',mean_squared_error(y_cv,y_cv_pred_nn))\n",
    "print()\n",
    "print('mean abs error training data : ',mean_absolute_error(y_train,y_train_pred_nn))\n",
    "print('mean abs error cross-val data : ',mean_absolute_error(y_cv,y_cv_pred_nn))"
   ]
  },
  {
   "cell_type": "code",
   "execution_count": 22,
   "id": "780c6aa2",
   "metadata": {
    "scrolled": true
   },
   "outputs": [
    {
     "data": {
      "text/plain": [
       "Text(0, 0.5, 'Predicted')"
      ]
     },
     "execution_count": 22,
     "metadata": {},
     "output_type": "execute_result"
    },
    {
     "data": {
      "image/png": "[encoded data removed]",
      "text/plain": [
       "<Figure size 936x360 with 2 Axes>"
      ]
     },
     "metadata": {
      "needs_background": "light"
     },
     "output_type": "display_data"
    }
   ],
   "source": [
    "fig,ax=plt.subplots(nrows=1,ncols=2,figsize=(13,5))\n",
    "ax[0].scatter(y_cv,y_cv_pred_nn)\n",
    "ax[0].plot(y_cv,y_cv,'r')\n",
    "ax[0].set_xlabel('y_cv')\n",
    "ax[0].set_ylabel('Predicted')\n",
    "ax[1].scatter(y_train,y_train_pred_nn)\n",
    "ax[1].plot(y_train,y_train,'r')\n",
    "ax[1].set_xlabel('y_train');ax[1].set_ylabel('Predicted')"
   ]
  },
  {
   "cell_type": "markdown",
   "id": "f6550b42",
   "metadata": {},
   "source": [
    "The linear model gives better results for CO2 prediction based on vehicle features. \n",
    "Therefore, for the test data, we use Linear Regression model"
   ]
  },
  {
   "cell_type": "markdown",
   "id": "69ef5d47",
   "metadata": {},
   "source": [
    "## Test data"
   ]
  },
  {
   "cell_type": "code",
   "execution_count": 23,
   "id": "44751400",
   "metadata": {},
   "outputs": [
    {
     "ename": "NameError",
     "evalue": "name 'X_test_f' is not defined",
     "output_type": "error",
     "traceback": [
      "\u001b[0;31m---------------------------------------------------------------------------\u001b[0m",
      "\u001b[0;31mNameError\u001b[0m                                 Traceback (most recent call last)",
      "\u001b[0;32m<ipython-input-23-5bf464eb9dab>\u001b[0m in \u001b[0;36m<module>\u001b[0;34m\u001b[0m\n\u001b[0;32m----> 1\u001b[0;31m \u001b[0my_test_pred\u001b[0m\u001b[0;34m=\u001b[0m\u001b[0mlinReg\u001b[0m\u001b[0;34m.\u001b[0m\u001b[0mpredict\u001b[0m\u001b[0;34m(\u001b[0m\u001b[0mX_test_f\u001b[0m\u001b[0;34m)\u001b[0m\u001b[0;34m\u001b[0m\u001b[0;34m\u001b[0m\u001b[0m\n\u001b[0m",
      "\u001b[0;31mNameError\u001b[0m: name 'X_test_f' is not defined"
     ]
    }
   ],
   "source": [
    "y_test_pred=linReg.predict(X_test_f)"
   ]
  },
  {
   "cell_type": "code",
   "execution_count": null,
   "id": "f12520cf",
   "metadata": {},
   "outputs": [],
   "source": [
    "print('mean sq error test data linReg : ',mean_squared_error(y_test_f,y_test_pred))\n",
    "print('mean abs error test data linReg : ',mean_absolute_error(y_test_f,y_test_pred))"
   ]
  }
 ],
 "metadata": {
  "kernelspec": {
   "display_name": "Python 3",
   "language": "python",
   "name": "python3"
  },
  "language_info": {
   "codemirror_mode": {
    "name": "ipython",
    "version": 3
   },
   "file_extension": ".py",
   "mimetype": "text/x-python",
   "name": "python",
   "nbconvert_exporter": "python",
   "pygments_lexer": "ipython3",
   "version": "3.8.10"
  }
 },
 "nbformat": 4,
 "nbformat_minor": 5
}
