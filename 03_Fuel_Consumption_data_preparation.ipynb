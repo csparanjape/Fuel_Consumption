{
 "cells": [
  {
   "cell_type": "markdown",
   "id": "484d5307",
   "metadata": {},
   "source": [
    "# Data preparation\n"
   ]
  },
  {
   "cell_type": "code",
   "execution_count": 13,
   "id": "bccba2e6",
   "metadata": {},
   "outputs": [],
   "source": [
    "import pandas as pd\n",
    "from sklearn.model_selection import train_test_split,GridSearchCV\n",
    "\n",
    "from sklearn.linear_model import LinearRegression\n",
    "from sklearn.neighbors import KNeighborsRegressor\n",
    "from sklearn.metrics import mean_squared_error,mean_absolute_error,explained_variance_score\n",
    "\n",
    "from sklearn.preprocessing import MinMaxScaler\n",
    "\n",
    "import matplotlib.pyplot as plt\n",
    "import seaborn as sns\n",
    "'''\n",
    "fig_params={'legend.fontsize':28,\n",
    "          'axes.labelsize': 28,\n",
    "          'axes.titlesize':32,\n",
    "          'xtick.labelsize':24,\n",
    "          'ytick.labelsize':24,             \n",
    "          'axes.facecolor':'#D9DDD1'}\n",
    "plt.rcParams.update(fig_params)\n",
    "'''\n",
    "\n",
    "%matplotlib inline"
   ]
  },
  {
   "cell_type": "code",
   "execution_count": 2,
   "id": "03ed8877",
   "metadata": {},
   "outputs": [],
   "source": [
    "df=pd.read_csv('./data/FuelConsumption_final.csv')"
   ]
  },
  {
   "cell_type": "code",
   "execution_count": 3,
   "id": "2ce97c75",
   "metadata": {},
   "outputs": [],
   "source": [
    "X=df[['MODEL_YEAR', 'ENGINE_SIZE', 'CYLINDERS', 'FUEL_CONSUMPTION_CITY',\n",
    "       'FUEL_CONSUMPTION_HWY', 'FUEL_CONSUMPTION_COMB', 'E',\n",
    "       'N', 'X', 'Z', 'E.1', 'N.1', 'X.1', 'Z.1', 'FULL-SIZE', 'MID-SIZE',\n",
    "       'MINICOMPACT', 'MINIVAN', 'PICKUP TRUCK - SMALL',\n",
    "       'PICKUP TRUCK - STANDARD', 'SPECIAL PURPOSE VEHICLE',\n",
    "       'STATION WAGON - MID-SIZE', 'STATION WAGON - SMALL', 'SUBCOMPACT',\n",
    "       'SUV', 'SUV - SMALL', 'SUV - STANDARD', 'TWO-SEATER', 'VAN - CARGO',\n",
    "       'VAN - PASSENGER', 'A4', 'A5', 'A6', 'A7', 'A8', 'A9', 'AM5', 'AM6',\n",
    "       'AM7', 'AS4', 'AS5', 'AS6', 'AS7', 'AS8', 'AS9', 'AV', 'AV6', 'AV7',\n",
    "       'AV8', 'M4', 'M5', 'M6', 'M7']]\n",
    "y=df['CO2_EMISSIONS']"
   ]
  },
  {
   "cell_type": "code",
   "execution_count": 4,
   "id": "bb64ac6a",
   "metadata": {},
   "outputs": [],
   "source": [
    "X_temp,X_test,y_temp,y_test=train_test_split(X,y,test_size=0.25,random_state=100)\n",
    "X_train,X_cv,y_train,y_cv=train_test_split(X_temp,y_temp,test_size=0.2)"
   ]
  },
  {
   "cell_type": "markdown",
   "id": "d6c4498f",
   "metadata": {},
   "source": [
    "## Normalization"
   ]
  },
  {
   "cell_type": "code",
   "execution_count": 5,
   "id": "586b7b81",
   "metadata": {},
   "outputs": [
    {
     "data": {
      "text/plain": [
       "MinMaxScaler()"
      ]
     },
     "execution_count": 5,
     "metadata": {},
     "output_type": "execute_result"
    }
   ],
   "source": [
    "scaler=MinMaxScaler()\n",
    "scaler.fit(X_train)"
   ]
  },
  {
   "cell_type": "code",
   "execution_count": 6,
   "id": "a263d378",
   "metadata": {},
   "outputs": [],
   "source": [
    "def normalize(df,normalizer):\n",
    "    df[['MODEL_YEAR', 'ENGINE_SIZE', 'CYLINDERS', 'FUEL_CONSUMPTION_CITY',\n",
    "       'FUEL_CONSUMPTION_HWY', 'FUEL_CONSUMPTION_COMB', 'E',\n",
    "       'N', 'X', 'Z', 'E.1', 'N.1', 'X.1', 'Z.1', 'FULL-SIZE', 'MID-SIZE',\n",
    "       'MINICOMPACT', 'MINIVAN', 'PICKUP TRUCK - SMALL',\n",
    "       'PICKUP TRUCK - STANDARD', 'SPECIAL PURPOSE VEHICLE',\n",
    "       'STATION WAGON - MID-SIZE', 'STATION WAGON - SMALL', 'SUBCOMPACT',\n",
    "       'SUV', 'SUV - SMALL', 'SUV - STANDARD', 'TWO-SEATER', 'VAN - CARGO',\n",
    "       'VAN - PASSENGER', 'A4', 'A5', 'A6', 'A7', 'A8', 'A9', 'AM5', 'AM6',\n",
    "       'AM7', 'AS4', 'AS5', 'AS6', 'AS7', 'AS8', 'AS9', 'AV', 'AV6', 'AV7',\n",
    "       'AV8', 'M4', 'M5', 'M6', 'M7']]=normalizer.transform(df)\n",
    "    return df\n",
    "    "
   ]
  },
  {
   "cell_type": "code",
   "execution_count": 7,
   "id": "d02a7d97",
   "metadata": {},
   "outputs": [
    {
     "name": "stderr",
     "output_type": "stream",
     "text": [
      "<ipython-input-6-eb6d83f3988f>:2: SettingWithCopyWarning: \n",
      "A value is trying to be set on a copy of a slice from a DataFrame.\n",
      "Try using .loc[row_indexer,col_indexer] = value instead\n",
      "\n",
      "See the caveats in the documentation: https://pandas.pydata.org/pandas-docs/stable/user_guide/indexing.html#returning-a-view-versus-a-copy\n",
      "  df[['MODEL_YEAR', 'ENGINE_SIZE', 'CYLINDERS', 'FUEL_CONSUMPTION_CITY',\n",
      "/home/chaitanya/anaconda3/lib/python3.8/site-packages/pandas/core/indexing.py:1738: SettingWithCopyWarning: \n",
      "A value is trying to be set on a copy of a slice from a DataFrame.\n",
      "Try using .loc[row_indexer,col_indexer] = value instead\n",
      "\n",
      "See the caveats in the documentation: https://pandas.pydata.org/pandas-docs/stable/user_guide/indexing.html#returning-a-view-versus-a-copy\n",
      "  self._setitem_single_column(loc, value[:, i].tolist(), pi)\n",
      "<ipython-input-6-eb6d83f3988f>:2: SettingWithCopyWarning: \n",
      "A value is trying to be set on a copy of a slice from a DataFrame.\n",
      "Try using .loc[row_indexer,col_indexer] = value instead\n",
      "\n",
      "See the caveats in the documentation: https://pandas.pydata.org/pandas-docs/stable/user_guide/indexing.html#returning-a-view-versus-a-copy\n",
      "  df[['MODEL_YEAR', 'ENGINE_SIZE', 'CYLINDERS', 'FUEL_CONSUMPTION_CITY',\n",
      "/home/chaitanya/anaconda3/lib/python3.8/site-packages/pandas/core/indexing.py:1738: SettingWithCopyWarning: \n",
      "A value is trying to be set on a copy of a slice from a DataFrame.\n",
      "Try using .loc[row_indexer,col_indexer] = value instead\n",
      "\n",
      "See the caveats in the documentation: https://pandas.pydata.org/pandas-docs/stable/user_guide/indexing.html#returning-a-view-versus-a-copy\n",
      "  self._setitem_single_column(loc, value[:, i].tolist(), pi)\n",
      "<ipython-input-6-eb6d83f3988f>:2: SettingWithCopyWarning: \n",
      "A value is trying to be set on a copy of a slice from a DataFrame.\n",
      "Try using .loc[row_indexer,col_indexer] = value instead\n",
      "\n",
      "See the caveats in the documentation: https://pandas.pydata.org/pandas-docs/stable/user_guide/indexing.html#returning-a-view-versus-a-copy\n",
      "  df[['MODEL_YEAR', 'ENGINE_SIZE', 'CYLINDERS', 'FUEL_CONSUMPTION_CITY',\n",
      "/home/chaitanya/anaconda3/lib/python3.8/site-packages/pandas/core/indexing.py:1738: SettingWithCopyWarning: \n",
      "A value is trying to be set on a copy of a slice from a DataFrame.\n",
      "Try using .loc[row_indexer,col_indexer] = value instead\n",
      "\n",
      "See the caveats in the documentation: https://pandas.pydata.org/pandas-docs/stable/user_guide/indexing.html#returning-a-view-versus-a-copy\n",
      "  self._setitem_single_column(loc, value[:, i].tolist(), pi)\n"
     ]
    }
   ],
   "source": [
    "X_train=normalize(X_train,scaler)\n",
    "X_cv=normalize(X_cv,scaler)\n",
    "X_test=normalize(X_test,scaler)"
   ]
  },
  {
   "cell_type": "code",
   "execution_count": 8,
   "id": "1bfba897",
   "metadata": {
    "scrolled": true
   },
   "outputs": [
    {
     "data": {
      "text/html": [
       "<div>\n",
       "<style scoped>\n",
       "    .dataframe tbody tr th:only-of-type {\n",
       "        vertical-align: middle;\n",
       "    }\n",
       "\n",
       "    .dataframe tbody tr th {\n",
       "        vertical-align: top;\n",
       "    }\n",
       "\n",
       "    .dataframe thead th {\n",
       "        text-align: right;\n",
       "    }\n",
       "</style>\n",
       "<table border=\"1\" class=\"dataframe\">\n",
       "  <thead>\n",
       "    <tr style=\"text-align: right;\">\n",
       "      <th></th>\n",
       "      <th>MODEL_YEAR</th>\n",
       "      <th>ENGINE_SIZE</th>\n",
       "      <th>CYLINDERS</th>\n",
       "      <th>FUEL_CONSUMPTION_CITY</th>\n",
       "      <th>FUEL_CONSUMPTION_HWY</th>\n",
       "      <th>FUEL_CONSUMPTION_COMB</th>\n",
       "      <th>E</th>\n",
       "      <th>N</th>\n",
       "      <th>X</th>\n",
       "      <th>Z</th>\n",
       "      <th>...</th>\n",
       "      <th>AS8</th>\n",
       "      <th>AS9</th>\n",
       "      <th>AV</th>\n",
       "      <th>AV6</th>\n",
       "      <th>AV7</th>\n",
       "      <th>AV8</th>\n",
       "      <th>M4</th>\n",
       "      <th>M5</th>\n",
       "      <th>M6</th>\n",
       "      <th>M7</th>\n",
       "    </tr>\n",
       "  </thead>\n",
       "  <tbody>\n",
       "    <tr>\n",
       "      <th>152</th>\n",
       "      <td>0.000000</td>\n",
       "      <td>0.394737</td>\n",
       "      <td>0.285714</td>\n",
       "      <td>0.450820</td>\n",
       "      <td>0.398734</td>\n",
       "      <td>0.436548</td>\n",
       "      <td>0.0</td>\n",
       "      <td>0.0</td>\n",
       "      <td>1.0</td>\n",
       "      <td>0.0</td>\n",
       "      <td>...</td>\n",
       "      <td>0.0</td>\n",
       "      <td>0.0</td>\n",
       "      <td>0.0</td>\n",
       "      <td>0.0</td>\n",
       "      <td>0.0</td>\n",
       "      <td>0.0</td>\n",
       "      <td>0.0</td>\n",
       "      <td>0.0</td>\n",
       "      <td>0.0</td>\n",
       "      <td>0.0</td>\n",
       "    </tr>\n",
       "    <tr>\n",
       "      <th>43</th>\n",
       "      <td>0.000000</td>\n",
       "      <td>0.263158</td>\n",
       "      <td>0.285714</td>\n",
       "      <td>0.389344</td>\n",
       "      <td>0.329114</td>\n",
       "      <td>0.370558</td>\n",
       "      <td>0.0</td>\n",
       "      <td>0.0</td>\n",
       "      <td>0.0</td>\n",
       "      <td>1.0</td>\n",
       "      <td>...</td>\n",
       "      <td>0.0</td>\n",
       "      <td>0.0</td>\n",
       "      <td>0.0</td>\n",
       "      <td>0.0</td>\n",
       "      <td>0.0</td>\n",
       "      <td>0.0</td>\n",
       "      <td>0.0</td>\n",
       "      <td>0.0</td>\n",
       "      <td>0.0</td>\n",
       "      <td>0.0</td>\n",
       "    </tr>\n",
       "    <tr>\n",
       "      <th>902</th>\n",
       "      <td>0.071429</td>\n",
       "      <td>0.500000</td>\n",
       "      <td>0.428571</td>\n",
       "      <td>0.495902</td>\n",
       "      <td>0.537975</td>\n",
       "      <td>0.517766</td>\n",
       "      <td>0.0</td>\n",
       "      <td>0.0</td>\n",
       "      <td>1.0</td>\n",
       "      <td>0.0</td>\n",
       "      <td>...</td>\n",
       "      <td>0.0</td>\n",
       "      <td>0.0</td>\n",
       "      <td>0.0</td>\n",
       "      <td>0.0</td>\n",
       "      <td>0.0</td>\n",
       "      <td>0.0</td>\n",
       "      <td>0.0</td>\n",
       "      <td>0.0</td>\n",
       "      <td>0.0</td>\n",
       "      <td>0.0</td>\n",
       "    </tr>\n",
       "    <tr>\n",
       "      <th>1117</th>\n",
       "      <td>0.071429</td>\n",
       "      <td>0.289474</td>\n",
       "      <td>0.285714</td>\n",
       "      <td>0.352459</td>\n",
       "      <td>0.310127</td>\n",
       "      <td>0.340102</td>\n",
       "      <td>0.0</td>\n",
       "      <td>0.0</td>\n",
       "      <td>1.0</td>\n",
       "      <td>0.0</td>\n",
       "      <td>...</td>\n",
       "      <td>0.0</td>\n",
       "      <td>0.0</td>\n",
       "      <td>0.0</td>\n",
       "      <td>0.0</td>\n",
       "      <td>0.0</td>\n",
       "      <td>0.0</td>\n",
       "      <td>0.0</td>\n",
       "      <td>0.0</td>\n",
       "      <td>0.0</td>\n",
       "      <td>0.0</td>\n",
       "    </tr>\n",
       "    <tr>\n",
       "      <th>8523</th>\n",
       "      <td>0.642857</td>\n",
       "      <td>0.223684</td>\n",
       "      <td>0.285714</td>\n",
       "      <td>0.323770</td>\n",
       "      <td>0.272152</td>\n",
       "      <td>0.309645</td>\n",
       "      <td>0.0</td>\n",
       "      <td>0.0</td>\n",
       "      <td>0.0</td>\n",
       "      <td>1.0</td>\n",
       "      <td>...</td>\n",
       "      <td>0.0</td>\n",
       "      <td>0.0</td>\n",
       "      <td>0.0</td>\n",
       "      <td>0.0</td>\n",
       "      <td>0.0</td>\n",
       "      <td>0.0</td>\n",
       "      <td>0.0</td>\n",
       "      <td>0.0</td>\n",
       "      <td>1.0</td>\n",
       "      <td>0.0</td>\n",
       "    </tr>\n",
       "    <tr>\n",
       "      <th>...</th>\n",
       "      <td>...</td>\n",
       "      <td>...</td>\n",
       "      <td>...</td>\n",
       "      <td>...</td>\n",
       "      <td>...</td>\n",
       "      <td>...</td>\n",
       "      <td>...</td>\n",
       "      <td>...</td>\n",
       "      <td>...</td>\n",
       "      <td>...</td>\n",
       "      <td>...</td>\n",
       "      <td>...</td>\n",
       "      <td>...</td>\n",
       "      <td>...</td>\n",
       "      <td>...</td>\n",
       "      <td>...</td>\n",
       "      <td>...</td>\n",
       "      <td>...</td>\n",
       "      <td>...</td>\n",
       "      <td>...</td>\n",
       "      <td>...</td>\n",
       "    </tr>\n",
       "    <tr>\n",
       "      <th>8166</th>\n",
       "      <td>0.642857</td>\n",
       "      <td>0.447368</td>\n",
       "      <td>0.285714</td>\n",
       "      <td>0.479508</td>\n",
       "      <td>0.436709</td>\n",
       "      <td>0.472081</td>\n",
       "      <td>0.0</td>\n",
       "      <td>0.0</td>\n",
       "      <td>1.0</td>\n",
       "      <td>0.0</td>\n",
       "      <td>...</td>\n",
       "      <td>0.0</td>\n",
       "      <td>0.0</td>\n",
       "      <td>0.0</td>\n",
       "      <td>0.0</td>\n",
       "      <td>0.0</td>\n",
       "      <td>0.0</td>\n",
       "      <td>0.0</td>\n",
       "      <td>0.0</td>\n",
       "      <td>0.0</td>\n",
       "      <td>0.0</td>\n",
       "    </tr>\n",
       "    <tr>\n",
       "      <th>2466</th>\n",
       "      <td>0.214286</td>\n",
       "      <td>0.157895</td>\n",
       "      <td>0.142857</td>\n",
       "      <td>0.250000</td>\n",
       "      <td>0.208861</td>\n",
       "      <td>0.233503</td>\n",
       "      <td>0.0</td>\n",
       "      <td>0.0</td>\n",
       "      <td>1.0</td>\n",
       "      <td>0.0</td>\n",
       "      <td>...</td>\n",
       "      <td>0.0</td>\n",
       "      <td>0.0</td>\n",
       "      <td>0.0</td>\n",
       "      <td>0.0</td>\n",
       "      <td>0.0</td>\n",
       "      <td>0.0</td>\n",
       "      <td>0.0</td>\n",
       "      <td>1.0</td>\n",
       "      <td>0.0</td>\n",
       "      <td>0.0</td>\n",
       "    </tr>\n",
       "    <tr>\n",
       "      <th>10878</th>\n",
       "      <td>0.785714</td>\n",
       "      <td>0.131579</td>\n",
       "      <td>0.142857</td>\n",
       "      <td>0.180328</td>\n",
       "      <td>0.196203</td>\n",
       "      <td>0.182741</td>\n",
       "      <td>0.0</td>\n",
       "      <td>0.0</td>\n",
       "      <td>1.0</td>\n",
       "      <td>0.0</td>\n",
       "      <td>...</td>\n",
       "      <td>0.0</td>\n",
       "      <td>0.0</td>\n",
       "      <td>0.0</td>\n",
       "      <td>0.0</td>\n",
       "      <td>0.0</td>\n",
       "      <td>0.0</td>\n",
       "      <td>0.0</td>\n",
       "      <td>0.0</td>\n",
       "      <td>1.0</td>\n",
       "      <td>0.0</td>\n",
       "    </tr>\n",
       "    <tr>\n",
       "      <th>10135</th>\n",
       "      <td>0.785714</td>\n",
       "      <td>0.368421</td>\n",
       "      <td>0.285714</td>\n",
       "      <td>0.377049</td>\n",
       "      <td>0.329114</td>\n",
       "      <td>0.365482</td>\n",
       "      <td>0.0</td>\n",
       "      <td>0.0</td>\n",
       "      <td>1.0</td>\n",
       "      <td>0.0</td>\n",
       "      <td>...</td>\n",
       "      <td>0.0</td>\n",
       "      <td>0.0</td>\n",
       "      <td>0.0</td>\n",
       "      <td>0.0</td>\n",
       "      <td>0.0</td>\n",
       "      <td>0.0</td>\n",
       "      <td>0.0</td>\n",
       "      <td>0.0</td>\n",
       "      <td>0.0</td>\n",
       "      <td>0.0</td>\n",
       "    </tr>\n",
       "    <tr>\n",
       "      <th>3265</th>\n",
       "      <td>0.285714</td>\n",
       "      <td>0.460526</td>\n",
       "      <td>0.285714</td>\n",
       "      <td>0.545082</td>\n",
       "      <td>0.563291</td>\n",
       "      <td>0.563452</td>\n",
       "      <td>0.0</td>\n",
       "      <td>0.0</td>\n",
       "      <td>1.0</td>\n",
       "      <td>0.0</td>\n",
       "      <td>...</td>\n",
       "      <td>0.0</td>\n",
       "      <td>0.0</td>\n",
       "      <td>0.0</td>\n",
       "      <td>0.0</td>\n",
       "      <td>0.0</td>\n",
       "      <td>0.0</td>\n",
       "      <td>0.0</td>\n",
       "      <td>0.0</td>\n",
       "      <td>0.0</td>\n",
       "      <td>0.0</td>\n",
       "    </tr>\n",
       "  </tbody>\n",
       "</table>\n",
       "<p>8551 rows × 53 columns</p>\n",
       "</div>"
      ],
      "text/plain": [
       "       MODEL_YEAR  ENGINE_SIZE  CYLINDERS  FUEL_CONSUMPTION_CITY  \\\n",
       "152      0.000000     0.394737   0.285714               0.450820   \n",
       "43       0.000000     0.263158   0.285714               0.389344   \n",
       "902      0.071429     0.500000   0.428571               0.495902   \n",
       "1117     0.071429     0.289474   0.285714               0.352459   \n",
       "8523     0.642857     0.223684   0.285714               0.323770   \n",
       "...           ...          ...        ...                    ...   \n",
       "8166     0.642857     0.447368   0.285714               0.479508   \n",
       "2466     0.214286     0.157895   0.142857               0.250000   \n",
       "10878    0.785714     0.131579   0.142857               0.180328   \n",
       "10135    0.785714     0.368421   0.285714               0.377049   \n",
       "3265     0.285714     0.460526   0.285714               0.545082   \n",
       "\n",
       "       FUEL_CONSUMPTION_HWY  FUEL_CONSUMPTION_COMB    E    N    X    Z  ...  \\\n",
       "152                0.398734               0.436548  0.0  0.0  1.0  0.0  ...   \n",
       "43                 0.329114               0.370558  0.0  0.0  0.0  1.0  ...   \n",
       "902                0.537975               0.517766  0.0  0.0  1.0  0.0  ...   \n",
       "1117               0.310127               0.340102  0.0  0.0  1.0  0.0  ...   \n",
       "8523               0.272152               0.309645  0.0  0.0  0.0  1.0  ...   \n",
       "...                     ...                    ...  ...  ...  ...  ...  ...   \n",
       "8166               0.436709               0.472081  0.0  0.0  1.0  0.0  ...   \n",
       "2466               0.208861               0.233503  0.0  0.0  1.0  0.0  ...   \n",
       "10878              0.196203               0.182741  0.0  0.0  1.0  0.0  ...   \n",
       "10135              0.329114               0.365482  0.0  0.0  1.0  0.0  ...   \n",
       "3265               0.563291               0.563452  0.0  0.0  1.0  0.0  ...   \n",
       "\n",
       "       AS8  AS9   AV  AV6  AV7  AV8   M4   M5   M6   M7  \n",
       "152    0.0  0.0  0.0  0.0  0.0  0.0  0.0  0.0  0.0  0.0  \n",
       "43     0.0  0.0  0.0  0.0  0.0  0.0  0.0  0.0  0.0  0.0  \n",
       "902    0.0  0.0  0.0  0.0  0.0  0.0  0.0  0.0  0.0  0.0  \n",
       "1117   0.0  0.0  0.0  0.0  0.0  0.0  0.0  0.0  0.0  0.0  \n",
       "8523   0.0  0.0  0.0  0.0  0.0  0.0  0.0  0.0  1.0  0.0  \n",
       "...    ...  ...  ...  ...  ...  ...  ...  ...  ...  ...  \n",
       "8166   0.0  0.0  0.0  0.0  0.0  0.0  0.0  0.0  0.0  0.0  \n",
       "2466   0.0  0.0  0.0  0.0  0.0  0.0  0.0  1.0  0.0  0.0  \n",
       "10878  0.0  0.0  0.0  0.0  0.0  0.0  0.0  0.0  1.0  0.0  \n",
       "10135  0.0  0.0  0.0  0.0  0.0  0.0  0.0  0.0  0.0  0.0  \n",
       "3265   0.0  0.0  0.0  0.0  0.0  0.0  0.0  0.0  0.0  0.0  \n",
       "\n",
       "[8551 rows x 53 columns]"
      ]
     },
     "execution_count": 8,
     "metadata": {},
     "output_type": "execute_result"
    }
   ],
   "source": [
    "X_train"
   ]
  },
  {
   "cell_type": "markdown",
   "id": "11c5f9f2",
   "metadata": {},
   "source": [
    "## Model building"
   ]
  },
  {
   "cell_type": "code",
   "execution_count": 9,
   "id": "5901b29b",
   "metadata": {},
   "outputs": [],
   "source": [
    "# def bestModel(model, X_train, X_cv, y_train, y_cv, grid):\n",
    "#     model_cv = GridSearchCV(model, grid, cv=4)\n",
    "#     model_cv.fit(X_train, y_train)\n",
    "#     print(\"tuned hpyerparameters :(best parameters) \", model_cv.best_params_)\n",
    "#     print(\"accuracy :\", model_cv.best_score_)\n",
    "#     mod_best= model_cv.best_estimator_\n",
    "#     return mod_best\n",
    "\n",
    "\n",
    "# def testModel(model, X_train, X_cv, y_train, y_cv):\n",
    "#     model.fit(X_train,y_train)\n",
    "#     y_pred_tr = model.predict(X_train)\n",
    "#     y_pred_cv = model.predict(X_cv)\n",
    "#     precision_tr, recall_tr, fscore_tr, support_tr = precision_recall_fscore_support(\n",
    "#         y_train, y_pred_tr, average='macro')\n",
    "#     precision_cv, recall_cv, fscore_cv, support_cv = precision_recall_fscore_support(\n",
    "#         y_cv, y_pred_cv, average='macro')\n",
    "#     report= np.array([precision_tr, recall_tr, fscore_tr, precision_cv, recall_cv, fscore_cv])\n",
    "#     return report\n",
    "\n"
   ]
  },
  {
   "cell_type": "markdown",
   "id": "dcf7f8e9",
   "metadata": {},
   "source": [
    "## Linear Regression"
   ]
  },
  {
   "cell_type": "code",
   "execution_count": 11,
   "id": "249bfdb6",
   "metadata": {},
   "outputs": [],
   "source": [
    "linReg=LinearRegression()\n",
    "linReg.fit(X_train,y_train)\n",
    "\n",
    "y_train_pred=linReg.predict(X_train)\n",
    "y_cv_pred=linReg.predict(X_cv)"
   ]
  },
  {
   "cell_type": "code",
   "execution_count": 12,
   "id": "ceca1497",
   "metadata": {
    "scrolled": false
   },
   "outputs": [
    {
     "name": "stdout",
     "output_type": "stream",
     "text": [
      "mean sq error training data :  21.109718792514368\n",
      "mean sq error cross-val data :  23.486876895985045\n",
      "\n",
      "mean abs error training data :  2.0575736579528314\n",
      "mean abs error cross-val data :  2.1772289827101785\n"
     ]
    }
   ],
   "source": [
    "print('mean sq error training data : ',mean_squared_error(y_train,y_train_pred))\n",
    "print('mean sq error cross-val data : ',mean_squared_error(y_cv,y_cv_pred))\n",
    "print()\n",
    "print('mean abs error training data : ',mean_absolute_error(y_train,y_train_pred))\n",
    "print('mean abs error cross-val data : ',mean_absolute_error(y_cv,y_cv_pred))"
   ]
  },
  {
   "cell_type": "code",
   "execution_count": 14,
   "id": "f3ae75a9",
   "metadata": {
    "scrolled": true
   },
   "outputs": [
    {
     "data": {
      "text/plain": [
       "<AxesSubplot:xlabel='CO2_EMISSIONS', ylabel='Count'>"
      ]
     },
     "execution_count": 14,
     "metadata": {},
     "output_type": "execute_result"
    },
    {
     "data": {
      "image/png": "[encoded data removed]",
      "text/plain": [
       "<Figure size 432x288 with 1 Axes>"
      ]
     },
     "metadata": {
      "needs_background": "light"
     },
     "output_type": "display_data"
    }
   ],
   "source": [
    "sns.histplot(data=y_train)"
   ]
  },
  {
   "cell_type": "code",
   "execution_count": 18,
   "id": "ef1e5437",
   "metadata": {},
   "outputs": [
    {
     "data": {
      "text/plain": [
       "Text(0, 0.5, 'Predicted')"
      ]
     },
     "execution_count": 18,
     "metadata": {},
     "output_type": "execute_result"
    },
    {
     "data": {
      "image/png": "[encoded data removed]",
      "text/plain": [
       "<Figure size 936x360 with 2 Axes>"
      ]
     },
     "metadata": {
      "needs_background": "light"
     },
     "output_type": "display_data"
    }
   ],
   "source": [
    "fig,ax=plt.subplots(nrows=1,ncols=2,figsize=(13,5))\n",
    "ax[0].scatter(y_cv,y_cv_pred)\n",
    "ax[0].plot(y_cv,y_cv,'r')\n",
    "ax[0].set_xlabel('y_cv')\n",
    "ax[0].set_ylabel('Predicted')\n",
    "ax[1].scatter(y_train,y_train_pred)\n",
    "ax[1].plot(y_train,y_train,'r')\n",
    "ax[1].set_xlabel('y_train');ax[1].set_ylabel('Predicted')"
   ]
  },
  {
   "cell_type": "markdown",
   "id": "03a5d45b",
   "metadata": {},
   "source": [
    "## ANN"
   ]
  },
  {
   "cell_type": "code",
   "execution_count": 15,
   "id": "cfebcaf4",
   "metadata": {},
   "outputs": [],
   "source": [
    "from tensorflow.keras.models import Sequential\n",
    "from tensorflow.keras.layers import Dense"
   ]
  },
  {
   "cell_type": "code",
   "execution_count": 17,
   "id": "1fd7a691",
   "metadata": {},
   "outputs": [
    {
     "name": "stdout",
     "output_type": "stream",
     "text": [
      "(8551, 53) (8551,)\n"
     ]
    }
   ],
   "source": [
    "print(X_train.shape,y_train.shape)"
   ]
  },
  {
   "cell_type": "code",
   "execution_count": null,
   "id": "45aefd01",
   "metadata": {},
   "outputs": [],
   "source": []
  }
 ],
 "metadata": {
  "kernelspec": {
   "display_name": "Python 3",
   "language": "python",
   "name": "python3"
  },
  "language_info": {
   "codemirror_mode": {
    "name": "ipython",
    "version": 3
   },
   "file_extension": ".py",
   "mimetype": "text/x-python",
   "name": "python",
   "nbconvert_exporter": "python",
   "pygments_lexer": "ipython3",
   "version": "3.8.10"
  }
 },
 "nbformat": 4,
 "nbformat_minor": 5
}
